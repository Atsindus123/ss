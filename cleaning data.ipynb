{
 "cells": [
  {
   "cell_type": "code",
   "execution_count": 3,
   "id": "de2ef6c4-0233-4823-b165-d93b66d0178f",
   "metadata": {},
   "outputs": [],
   "source": [
    "import pandas as pd"
   ]
  },
  {
   "cell_type": "code",
   "execution_count": 4,
   "id": "da61f294-22e9-4a2c-8224-547953fe35e2",
   "metadata": {},
   "outputs": [],
   "source": [
    "df=pd.read_csv('train.csv')"
   ]
  },
  {
   "cell_type": "code",
   "execution_count": 5,
   "id": "003227b5-7307-4990-b1c7-f0e162f616f9",
   "metadata": {},
   "outputs": [
    {
     "data": {
      "text/html": [
       "<div>\n",
       "<style scoped>\n",
       "    .dataframe tbody tr th:only-of-type {\n",
       "        vertical-align: middle;\n",
       "    }\n",
       "\n",
       "    .dataframe tbody tr th {\n",
       "        vertical-align: top;\n",
       "    }\n",
       "\n",
       "    .dataframe thead th {\n",
       "        text-align: right;\n",
       "    }\n",
       "</style>\n",
       "<table border=\"1\" class=\"dataframe\">\n",
       "  <thead>\n",
       "    <tr style=\"text-align: right;\">\n",
       "      <th></th>\n",
       "      <th>id</th>\n",
       "      <th>car_name</th>\n",
       "      <th>yr_mfr</th>\n",
       "      <th>fuel_type</th>\n",
       "      <th>kms_run</th>\n",
       "      <th>sale_price</th>\n",
       "      <th>city</th>\n",
       "      <th>times_viewed</th>\n",
       "      <th>body_type</th>\n",
       "      <th>transmission</th>\n",
       "      <th>...</th>\n",
       "      <th>total_owners</th>\n",
       "      <th>broker_quote</th>\n",
       "      <th>original_price</th>\n",
       "      <th>car_rating</th>\n",
       "      <th>ad_created_on</th>\n",
       "      <th>fitness_certificate</th>\n",
       "      <th>emi_starts_from</th>\n",
       "      <th>booking_down_pymnt</th>\n",
       "      <th>reserved</th>\n",
       "      <th>warranty_avail</th>\n",
       "    </tr>\n",
       "  </thead>\n",
       "  <tbody>\n",
       "    <tr>\n",
       "      <th>0</th>\n",
       "      <td>1</td>\n",
       "      <td>maruti swift</td>\n",
       "      <td>2015</td>\n",
       "      <td>petrol</td>\n",
       "      <td>8063</td>\n",
       "      <td>386399</td>\n",
       "      <td>noida</td>\n",
       "      <td>18715</td>\n",
       "      <td>hatchback</td>\n",
       "      <td>manual</td>\n",
       "      <td>...</td>\n",
       "      <td>2</td>\n",
       "      <td>397677</td>\n",
       "      <td>404177.0</td>\n",
       "      <td>great</td>\n",
       "      <td>2021-04-04T07:09:18.583</td>\n",
       "      <td>True</td>\n",
       "      <td>8975</td>\n",
       "      <td>57960</td>\n",
       "      <td>False</td>\n",
       "      <td>False</td>\n",
       "    </tr>\n",
       "    <tr>\n",
       "      <th>1</th>\n",
       "      <td>2</td>\n",
       "      <td>maruti alto 800</td>\n",
       "      <td>2016</td>\n",
       "      <td>petrol</td>\n",
       "      <td>23104</td>\n",
       "      <td>265499</td>\n",
       "      <td>noida</td>\n",
       "      <td>2676</td>\n",
       "      <td>hatchback</td>\n",
       "      <td>manual</td>\n",
       "      <td>...</td>\n",
       "      <td>1</td>\n",
       "      <td>272935</td>\n",
       "      <td>354313.0</td>\n",
       "      <td>great</td>\n",
       "      <td>2021-03-22T14:07:32.833</td>\n",
       "      <td>True</td>\n",
       "      <td>6167</td>\n",
       "      <td>39825</td>\n",
       "      <td>False</td>\n",
       "      <td>False</td>\n",
       "    </tr>\n",
       "    <tr>\n",
       "      <th>2</th>\n",
       "      <td>3</td>\n",
       "      <td>hyundai grand i10</td>\n",
       "      <td>2017</td>\n",
       "      <td>petrol</td>\n",
       "      <td>23402</td>\n",
       "      <td>477699</td>\n",
       "      <td>noida</td>\n",
       "      <td>609</td>\n",
       "      <td>hatchback</td>\n",
       "      <td>manual</td>\n",
       "      <td>...</td>\n",
       "      <td>1</td>\n",
       "      <td>469605</td>\n",
       "      <td>NaN</td>\n",
       "      <td>great</td>\n",
       "      <td>2021-03-20T05:36:31.311</td>\n",
       "      <td>True</td>\n",
       "      <td>11096</td>\n",
       "      <td>71655</td>\n",
       "      <td>False</td>\n",
       "      <td>False</td>\n",
       "    </tr>\n",
       "    <tr>\n",
       "      <th>3</th>\n",
       "      <td>4</td>\n",
       "      <td>maruti swift</td>\n",
       "      <td>2013</td>\n",
       "      <td>diesel</td>\n",
       "      <td>39124</td>\n",
       "      <td>307999</td>\n",
       "      <td>noida</td>\n",
       "      <td>6511</td>\n",
       "      <td>hatchback</td>\n",
       "      <td>manual</td>\n",
       "      <td>...</td>\n",
       "      <td>1</td>\n",
       "      <td>294262</td>\n",
       "      <td>374326.0</td>\n",
       "      <td>great</td>\n",
       "      <td>2021-01-21T12:59:19.299</td>\n",
       "      <td>True</td>\n",
       "      <td>7154</td>\n",
       "      <td>46200</td>\n",
       "      <td>False</td>\n",
       "      <td>False</td>\n",
       "    </tr>\n",
       "    <tr>\n",
       "      <th>4</th>\n",
       "      <td>5</td>\n",
       "      <td>hyundai grand i10</td>\n",
       "      <td>2015</td>\n",
       "      <td>petrol</td>\n",
       "      <td>22116</td>\n",
       "      <td>361499</td>\n",
       "      <td>noida</td>\n",
       "      <td>3225</td>\n",
       "      <td>hatchback</td>\n",
       "      <td>manual</td>\n",
       "      <td>...</td>\n",
       "      <td>1</td>\n",
       "      <td>360716</td>\n",
       "      <td>367216.0</td>\n",
       "      <td>great</td>\n",
       "      <td>2021-04-01T13:33:40.733</td>\n",
       "      <td>True</td>\n",
       "      <td>8397</td>\n",
       "      <td>54225</td>\n",
       "      <td>False</td>\n",
       "      <td>False</td>\n",
       "    </tr>\n",
       "  </tbody>\n",
       "</table>\n",
       "<p>5 rows × 30 columns</p>\n",
       "</div>"
      ],
      "text/plain": [
       "   id           car_name  yr_mfr fuel_type  kms_run  sale_price   city  \\\n",
       "0   1       maruti swift    2015    petrol     8063      386399  noida   \n",
       "1   2    maruti alto 800    2016    petrol    23104      265499  noida   \n",
       "2   3  hyundai grand i10    2017    petrol    23402      477699  noida   \n",
       "3   4       maruti swift    2013    diesel    39124      307999  noida   \n",
       "4   5  hyundai grand i10    2015    petrol    22116      361499  noida   \n",
       "\n",
       "   times_viewed  body_type transmission  ... total_owners  broker_quote  \\\n",
       "0         18715  hatchback       manual  ...            2        397677   \n",
       "1          2676  hatchback       manual  ...            1        272935   \n",
       "2           609  hatchback       manual  ...            1        469605   \n",
       "3          6511  hatchback       manual  ...            1        294262   \n",
       "4          3225  hatchback       manual  ...            1        360716   \n",
       "\n",
       "  original_price car_rating            ad_created_on fitness_certificate  \\\n",
       "0       404177.0      great  2021-04-04T07:09:18.583                True   \n",
       "1       354313.0      great  2021-03-22T14:07:32.833                True   \n",
       "2            NaN      great  2021-03-20T05:36:31.311                True   \n",
       "3       374326.0      great  2021-01-21T12:59:19.299                True   \n",
       "4       367216.0      great  2021-04-01T13:33:40.733                True   \n",
       "\n",
       "  emi_starts_from booking_down_pymnt reserved warranty_avail  \n",
       "0            8975              57960    False          False  \n",
       "1            6167              39825    False          False  \n",
       "2           11096              71655    False          False  \n",
       "3            7154              46200    False          False  \n",
       "4            8397              54225    False          False  \n",
       "\n",
       "[5 rows x 30 columns]"
      ]
     },
     "execution_count": 5,
     "metadata": {},
     "output_type": "execute_result"
    }
   ],
   "source": [
    "df.head()"
   ]
  },
  {
   "cell_type": "code",
   "execution_count": 6,
   "id": "57f1edb4-3b0e-4380-9e1c-7b07e7c26f1b",
   "metadata": {},
   "outputs": [
    {
     "data": {
      "text/plain": [
       "id                        0\n",
       "car_name                  0\n",
       "yr_mfr                    0\n",
       "fuel_type                 0\n",
       "kms_run                   0\n",
       "sale_price                0\n",
       "city                      0\n",
       "times_viewed              0\n",
       "body_type                90\n",
       "transmission            474\n",
       "variant                   0\n",
       "assured_buy               0\n",
       "registered_city           8\n",
       "registered_state          8\n",
       "is_hot                    0\n",
       "rto                       0\n",
       "source                  114\n",
       "make                      0\n",
       "model                     0\n",
       "car_availability        542\n",
       "total_owners              0\n",
       "broker_quote              0\n",
       "original_price         2824\n",
       "car_rating                7\n",
       "ad_created_on             1\n",
       "fitness_certificate       8\n",
       "emi_starts_from           0\n",
       "booking_down_pymnt        0\n",
       "reserved                  0\n",
       "warranty_avail            0\n",
       "dtype: int64"
      ]
     },
     "execution_count": 6,
     "metadata": {},
     "output_type": "execute_result"
    }
   ],
   "source": [
    "df.isnull().sum()"
   ]
  },
  {
   "cell_type": "code",
   "execution_count": 7,
   "id": "6ec1cbc2-9d54-42e6-9830-36ab9ad66e40",
   "metadata": {},
   "outputs": [
    {
     "data": {
      "text/plain": [
       "id                       int64\n",
       "car_name                object\n",
       "yr_mfr                   int64\n",
       "fuel_type               object\n",
       "kms_run                  int64\n",
       "sale_price               int64\n",
       "city                    object\n",
       "times_viewed             int64\n",
       "body_type               object\n",
       "transmission            object\n",
       "variant                 object\n",
       "assured_buy               bool\n",
       "registered_city         object\n",
       "registered_state        object\n",
       "is_hot                    bool\n",
       "rto                     object\n",
       "source                  object\n",
       "make                    object\n",
       "model                   object\n",
       "car_availability        object\n",
       "total_owners             int64\n",
       "broker_quote             int64\n",
       "original_price         float64\n",
       "car_rating              object\n",
       "ad_created_on           object\n",
       "fitness_certificate     object\n",
       "emi_starts_from          int64\n",
       "booking_down_pymnt       int64\n",
       "reserved                  bool\n",
       "warranty_avail            bool\n",
       "dtype: object"
      ]
     },
     "execution_count": 7,
     "metadata": {},
     "output_type": "execute_result"
    }
   ],
   "source": [
    "df.dtypes"
   ]
  },
  {
   "cell_type": "code",
   "execution_count": 8,
   "id": "5cf48ecb-c983-4f2f-8f75-416db9e03aa3",
   "metadata": {},
   "outputs": [],
   "source": [
    "df=df.drop(columns=['id','times_viewed','source','car_availability','broker_quote','ad_created_on','emi_starts_from','booking_down_pymnt','warranty_avail','reserved'])\n"
   ]
  },
  {
   "cell_type": "code",
   "execution_count": 9,
   "id": "40971cb8-2b4c-4e2f-a2df-05d2c96d891f",
   "metadata": {},
   "outputs": [
    {
     "data": {
      "text/plain": [
       "car_name                object\n",
       "yr_mfr                   int64\n",
       "fuel_type               object\n",
       "kms_run                  int64\n",
       "sale_price               int64\n",
       "city                    object\n",
       "body_type               object\n",
       "transmission            object\n",
       "variant                 object\n",
       "assured_buy               bool\n",
       "registered_city         object\n",
       "registered_state        object\n",
       "is_hot                    bool\n",
       "rto                     object\n",
       "make                    object\n",
       "model                   object\n",
       "total_owners             int64\n",
       "original_price         float64\n",
       "car_rating              object\n",
       "fitness_certificate     object\n",
       "dtype: object"
      ]
     },
     "execution_count": 9,
     "metadata": {},
     "output_type": "execute_result"
    }
   ],
   "source": [
    "df.dtypes"
   ]
  },
  {
   "cell_type": "code",
   "execution_count": 10,
   "id": "aaa9718c-3eba-4c8e-8375-828803ead581",
   "metadata": {},
   "outputs": [
    {
     "data": {
      "text/plain": [
       "car_name                  0\n",
       "yr_mfr                    0\n",
       "fuel_type                 0\n",
       "kms_run                   0\n",
       "sale_price                0\n",
       "city                      0\n",
       "body_type                90\n",
       "transmission            474\n",
       "variant                   0\n",
       "assured_buy               0\n",
       "registered_city           8\n",
       "registered_state          8\n",
       "is_hot                    0\n",
       "rto                       0\n",
       "make                      0\n",
       "model                     0\n",
       "total_owners              0\n",
       "original_price         2824\n",
       "car_rating                7\n",
       "fitness_certificate       8\n",
       "dtype: int64"
      ]
     },
     "execution_count": 10,
     "metadata": {},
     "output_type": "execute_result"
    }
   ],
   "source": [
    "df.isnull().sum()"
   ]
  },
  {
   "cell_type": "code",
   "execution_count": 16,
   "id": "d7a1df35-8d8d-4988-baf7-1ebb6880de8c",
   "metadata": {},
   "outputs": [],
   "source": [
    "# \n",
    "# Fill missing values with a specific value (e.g., 0)\n",
    "df_filled_zero = df.fillna(0)\n",
    "\n",
    "# Fill missing values with a specific string (e.g., 'Unknown')\n",
    "df = df.fillna('Unknown')\n"
   ]
  },
  {
   "cell_type": "code",
   "execution_count": 18,
   "id": "6eb1fda1-cd90-4d49-9e86-0ee8f499f10d",
   "metadata": {},
   "outputs": [
    {
     "data": {
      "text/plain": [
       "car_name               0\n",
       "yr_mfr                 0\n",
       "fuel_type              0\n",
       "kms_run                0\n",
       "sale_price             0\n",
       "city                   0\n",
       "body_type              0\n",
       "transmission           0\n",
       "variant                0\n",
       "assured_buy            0\n",
       "registered_city        0\n",
       "registered_state       0\n",
       "is_hot                 0\n",
       "rto                    0\n",
       "make                   0\n",
       "model                  0\n",
       "total_owners           0\n",
       "original_price         0\n",
       "car_rating             0\n",
       "fitness_certificate    0\n",
       "dtype: int64"
      ]
     },
     "execution_count": 18,
     "metadata": {},
     "output_type": "execute_result"
    }
   ],
   "source": [
    "df.isnull().sum()"
   ]
  },
  {
   "cell_type": "code",
   "execution_count": 19,
   "id": "a331118e-4189-40f8-bb2c-6a20d42558ce",
   "metadata": {},
   "outputs": [],
   "source": [
    "boolean_cols = df.select_dtypes(include=['bool']).columns"
   ]
  },
  {
   "cell_type": "code",
   "execution_count": 20,
   "id": "179a5f31-dcc6-4c6b-ae86-0a9343814d75",
   "metadata": {},
   "outputs": [],
   "source": [
    "df[boolean_cols] = df[boolean_cols].astype(str)"
   ]
  },
  {
   "cell_type": "code",
   "execution_count": 21,
   "id": "b91c74b0-2692-47db-ab89-22c6ad42ec0a",
   "metadata": {},
   "outputs": [
    {
     "name": "stdout",
     "output_type": "stream",
     "text": [
      "            car_name  yr_mfr fuel_type  kms_run  sale_price   city  body_type  \\\n",
      "0       maruti swift    2015    petrol     8063      386399  noida  hatchback   \n",
      "1    maruti alto 800    2016    petrol    23104      265499  noida  hatchback   \n",
      "2  hyundai grand i10    2017    petrol    23402      477699  noida  hatchback   \n",
      "3       maruti swift    2013    diesel    39124      307999  noida  hatchback   \n",
      "4  hyundai grand i10    2015    petrol    22116      361499  noida  hatchback   \n",
      "\n",
      "  transmission          variant assured_buy registered_city registered_state  \\\n",
      "0       manual          lxi opt        True           delhi            delhi   \n",
      "1       manual              lxi        True           noida    uttar pradesh   \n",
      "2       manual  sports 1.2 vtvt        True            agra    uttar pradesh   \n",
      "3       manual              vdi        True           delhi            delhi   \n",
      "4       manual   magna 1.2 vtvt       False       new delhi            delhi   \n",
      "\n",
      "  is_hot   rto     make      model  total_owners original_price car_rating  \\\n",
      "0   True  dl6c   maruti      swift             2       404177.0      great   \n",
      "1   True  up16   maruti   alto 800             1       354313.0      great   \n",
      "2   True  up80  hyundai  grand i10             1        Unknown      great   \n",
      "3   True  dl1c   maruti      swift             1       374326.0      great   \n",
      "4   True  dl12  hyundai  grand i10             1       367216.0      great   \n",
      "\n",
      "  fitness_certificate  \n",
      "0                True  \n",
      "1                True  \n",
      "2                True  \n",
      "3                True  \n",
      "4                True  \n"
     ]
    }
   ],
   "source": [
    "print(df.head())"
   ]
  },
  {
   "cell_type": "code",
   "execution_count": 22,
   "id": "8d064be7-4ff7-4262-89d3-059415691a5d",
   "metadata": {},
   "outputs": [
    {
     "name": "stdout",
     "output_type": "stream",
     "text": [
      "car_name               object\n",
      "yr_mfr                  int64\n",
      "fuel_type              object\n",
      "kms_run                 int64\n",
      "sale_price              int64\n",
      "city                   object\n",
      "body_type              object\n",
      "transmission           object\n",
      "variant                object\n",
      "assured_buy            object\n",
      "registered_city        object\n",
      "registered_state       object\n",
      "is_hot                 object\n",
      "rto                    object\n",
      "make                   object\n",
      "model                  object\n",
      "total_owners            int64\n",
      "original_price         object\n",
      "car_rating             object\n",
      "fitness_certificate    object\n",
      "dtype: object\n"
     ]
    }
   ],
   "source": [
    "print(df.dtypes)"
   ]
  },
  {
   "cell_type": "code",
   "execution_count": 24,
   "id": "810b0cce-9fd0-49cd-a6d2-732b46347781",
   "metadata": {},
   "outputs": [],
   "source": [
    "df=pd.read_csv('newfile.csv')"
   ]
  },
  {
   "cell_type": "code",
   "execution_count": 25,
   "id": "c811a810-7b87-46a2-9bb5-c932c9524025",
   "metadata": {},
   "outputs": [
    {
     "data": {
      "text/plain": [
       "car_name               object\n",
       "yr_mfr                  int64\n",
       "fuel_type              object\n",
       "kms_run                 int64\n",
       "sale_price              int64\n",
       "city                   object\n",
       "body_type              object\n",
       "transmission           object\n",
       "variant                object\n",
       "assured_buy              bool\n",
       "registered_city        object\n",
       "registered_state       object\n",
       "is_hot                   bool\n",
       "rto                    object\n",
       "make                   object\n",
       "model                  object\n",
       "total_owners            int64\n",
       "original_price         object\n",
       "car_rating             object\n",
       "fitness_certificate    object\n",
       "dtype: object"
      ]
     },
     "execution_count": 25,
     "metadata": {},
     "output_type": "execute_result"
    }
   ],
   "source": [
    "df.dtypes"
   ]
  },
  {
   "cell_type": "code",
   "execution_count": 26,
   "id": "2d487f2b-ea33-4455-bbb0-fc78b4f07877",
   "metadata": {},
   "outputs": [],
   "source": [
    "df=pd.read_csv('true.csv')"
   ]
  },
  {
   "cell_type": "code",
   "execution_count": 27,
   "id": "877e7b7b-c864-47c1-985a-dc4b33dcaabe",
   "metadata": {},
   "outputs": [
    {
     "data": {
      "text/plain": [
       "car_name               object\n",
       "yr_mfr                  int64\n",
       "fuel_type              object\n",
       "kms_run                 int64\n",
       "sale_price              int64\n",
       "city                   object\n",
       "body_type              object\n",
       "transmission           object\n",
       "variant                object\n",
       "assured_buy              bool\n",
       "registered_city        object\n",
       "registered_state       object\n",
       "is_hot                   bool\n",
       "rto                    object\n",
       "make                   object\n",
       "model                  object\n",
       "total_owners            int64\n",
       "original_price         object\n",
       "car_rating             object\n",
       "fitness_certificate    object\n",
       "dtype: object"
      ]
     },
     "execution_count": 27,
     "metadata": {},
     "output_type": "execute_result"
    }
   ],
   "source": [
    "df.dtypes"
   ]
  },
  {
   "cell_type": "code",
   "execution_count": null,
   "id": "34e3b78a-c19c-4dfe-b97f-4fc3c9e0fd34",
   "metadata": {},
   "outputs": [],
   "source": []
  }
 ],
 "metadata": {
  "kernelspec": {
   "display_name": "Python 3 (ipykernel)",
   "language": "python",
   "name": "python3"
  },
  "language_info": {
   "codemirror_mode": {
    "name": "ipython",
    "version": 3
   },
   "file_extension": ".py",
   "mimetype": "text/x-python",
   "name": "python",
   "nbconvert_exporter": "python",
   "pygments_lexer": "ipython3",
   "version": "3.11.8"
  }
 },
 "nbformat": 4,
 "nbformat_minor": 5
}
